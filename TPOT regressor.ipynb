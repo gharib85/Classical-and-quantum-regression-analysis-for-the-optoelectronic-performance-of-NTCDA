{
  "nbformat": 4,
  "nbformat_minor": 0,
  "metadata": {
    "kernelspec": {
      "display_name": "Python 3",
      "language": "python",
      "name": "python3"
    },
    "language_info": {
      "codemirror_mode": {
        "name": "ipython",
        "version": 3
      },
      "file_extension": ".py",
      "mimetype": "text/x-python",
      "name": "python",
      "nbconvert_exporter": "python",
      "pygments_lexer": "ipython3",
      "version": "3.8.2"
    },
    "colab": {
      "name": "TPOT regressor.ipynb",
      "provenance": [],
      "include_colab_link": true
    },
    "accelerator": "GPU",
    "widgets": {
      "application/vnd.jupyter.widget-state+json": {
        "a288e14dbe564a00a19656b75e377ee3": {
          "model_module": "@jupyter-widgets/controls",
          "model_name": "HBoxModel",
          "state": {
            "_view_name": "HBoxView",
            "_dom_classes": [],
            "_model_name": "HBoxModel",
            "_view_module": "@jupyter-widgets/controls",
            "_model_module_version": "1.5.0",
            "_view_count": null,
            "_view_module_version": "1.5.0",
            "box_style": "",
            "layout": "IPY_MODEL_ba43961db3a44383a0be0229bfbb519c",
            "_model_module": "@jupyter-widgets/controls",
            "children": [
              "IPY_MODEL_2a083824feef4a28b039e83bc35ea631",
              "IPY_MODEL_d32d5b01f1ad464fbaf629c84a52a16c"
            ]
          }
        },
        "ba43961db3a44383a0be0229bfbb519c": {
          "model_module": "@jupyter-widgets/base",
          "model_name": "LayoutModel",
          "state": {
            "_view_name": "LayoutView",
            "grid_template_rows": null,
            "right": null,
            "justify_content": null,
            "_view_module": "@jupyter-widgets/base",
            "overflow": null,
            "_model_module_version": "1.2.0",
            "_view_count": null,
            "flex_flow": null,
            "width": null,
            "min_width": null,
            "border": null,
            "align_items": null,
            "bottom": null,
            "_model_module": "@jupyter-widgets/base",
            "top": null,
            "grid_column": null,
            "overflow_y": null,
            "overflow_x": null,
            "grid_auto_flow": null,
            "grid_area": null,
            "grid_template_columns": null,
            "flex": null,
            "_model_name": "LayoutModel",
            "justify_items": null,
            "grid_row": null,
            "max_height": null,
            "align_content": null,
            "visibility": null,
            "align_self": null,
            "height": null,
            "min_height": null,
            "padding": null,
            "grid_auto_rows": null,
            "grid_gap": null,
            "max_width": null,
            "order": null,
            "_view_module_version": "1.2.0",
            "grid_template_areas": null,
            "object_position": null,
            "object_fit": null,
            "grid_auto_columns": null,
            "margin": null,
            "display": null,
            "left": null
          }
        },
        "2a083824feef4a28b039e83bc35ea631": {
          "model_module": "@jupyter-widgets/controls",
          "model_name": "FloatProgressModel",
          "state": {
            "_view_name": "ProgressView",
            "style": "IPY_MODEL_195f072838ba421d8ba0ab4d406f045e",
            "_dom_classes": [],
            "description": "Optimization Progress: 100%",
            "_model_name": "FloatProgressModel",
            "bar_style": "",
            "max": 5100,
            "_view_module": "@jupyter-widgets/controls",
            "_model_module_version": "1.5.0",
            "value": 5100,
            "_view_count": null,
            "_view_module_version": "1.5.0",
            "orientation": "horizontal",
            "min": 0,
            "description_tooltip": null,
            "_model_module": "@jupyter-widgets/controls",
            "layout": "IPY_MODEL_952ec041a3c641aba76bf25e5c724ee4"
          }
        },
        "d32d5b01f1ad464fbaf629c84a52a16c": {
          "model_module": "@jupyter-widgets/controls",
          "model_name": "HTMLModel",
          "state": {
            "_view_name": "HTMLView",
            "style": "IPY_MODEL_664987baf37c4dd1a1b5edf44cf1b6c8",
            "_dom_classes": [],
            "description": "",
            "_model_name": "HTMLModel",
            "placeholder": "​",
            "_view_module": "@jupyter-widgets/controls",
            "_model_module_version": "1.5.0",
            "value": " 5100/5100 [44:38&lt;00:00,  1.36pipeline/s]",
            "_view_count": null,
            "_view_module_version": "1.5.0",
            "description_tooltip": null,
            "_model_module": "@jupyter-widgets/controls",
            "layout": "IPY_MODEL_1de735c6de1d4d849f3cbcc18043b6f5"
          }
        },
        "195f072838ba421d8ba0ab4d406f045e": {
          "model_module": "@jupyter-widgets/controls",
          "model_name": "ProgressStyleModel",
          "state": {
            "_view_name": "StyleView",
            "_model_name": "ProgressStyleModel",
            "description_width": "initial",
            "_view_module": "@jupyter-widgets/base",
            "_model_module_version": "1.5.0",
            "_view_count": null,
            "_view_module_version": "1.2.0",
            "bar_color": null,
            "_model_module": "@jupyter-widgets/controls"
          }
        },
        "952ec041a3c641aba76bf25e5c724ee4": {
          "model_module": "@jupyter-widgets/base",
          "model_name": "LayoutModel",
          "state": {
            "_view_name": "LayoutView",
            "grid_template_rows": null,
            "right": null,
            "justify_content": null,
            "_view_module": "@jupyter-widgets/base",
            "overflow": null,
            "_model_module_version": "1.2.0",
            "_view_count": null,
            "flex_flow": null,
            "width": null,
            "min_width": null,
            "border": null,
            "align_items": null,
            "bottom": null,
            "_model_module": "@jupyter-widgets/base",
            "top": null,
            "grid_column": null,
            "overflow_y": null,
            "overflow_x": null,
            "grid_auto_flow": null,
            "grid_area": null,
            "grid_template_columns": null,
            "flex": null,
            "_model_name": "LayoutModel",
            "justify_items": null,
            "grid_row": null,
            "max_height": null,
            "align_content": null,
            "visibility": null,
            "align_self": null,
            "height": null,
            "min_height": null,
            "padding": null,
            "grid_auto_rows": null,
            "grid_gap": null,
            "max_width": null,
            "order": null,
            "_view_module_version": "1.2.0",
            "grid_template_areas": null,
            "object_position": null,
            "object_fit": null,
            "grid_auto_columns": null,
            "margin": null,
            "display": null,
            "left": null
          }
        },
        "664987baf37c4dd1a1b5edf44cf1b6c8": {
          "model_module": "@jupyter-widgets/controls",
          "model_name": "DescriptionStyleModel",
          "state": {
            "_view_name": "StyleView",
            "_model_name": "DescriptionStyleModel",
            "description_width": "",
            "_view_module": "@jupyter-widgets/base",
            "_model_module_version": "1.5.0",
            "_view_count": null,
            "_view_module_version": "1.2.0",
            "_model_module": "@jupyter-widgets/controls"
          }
        },
        "1de735c6de1d4d849f3cbcc18043b6f5": {
          "model_module": "@jupyter-widgets/base",
          "model_name": "LayoutModel",
          "state": {
            "_view_name": "LayoutView",
            "grid_template_rows": null,
            "right": null,
            "justify_content": null,
            "_view_module": "@jupyter-widgets/base",
            "overflow": null,
            "_model_module_version": "1.2.0",
            "_view_count": null,
            "flex_flow": null,
            "width": null,
            "min_width": null,
            "border": null,
            "align_items": null,
            "bottom": null,
            "_model_module": "@jupyter-widgets/base",
            "top": null,
            "grid_column": null,
            "overflow_y": null,
            "overflow_x": null,
            "grid_auto_flow": null,
            "grid_area": null,
            "grid_template_columns": null,
            "flex": null,
            "_model_name": "LayoutModel",
            "justify_items": null,
            "grid_row": null,
            "max_height": null,
            "align_content": null,
            "visibility": null,
            "align_self": null,
            "height": null,
            "min_height": null,
            "padding": null,
            "grid_auto_rows": null,
            "grid_gap": null,
            "max_width": null,
            "order": null,
            "_view_module_version": "1.2.0",
            "grid_template_areas": null,
            "object_position": null,
            "object_fit": null,
            "grid_auto_columns": null,
            "margin": null,
            "display": null,
            "left": null
          }
        }
      }
    }
  },
  "cells": [
    {
      "cell_type": "markdown",
      "metadata": {
        "id": "view-in-github",
        "colab_type": "text"
      },
      "source": [
        "<a href=\"https://colab.research.google.com/github/kareem1925/Classical-and-quantum-regression-analysis-for-the-optoelectronic-performance-of-NTCDA/blob/master/TPOT%20regressor.ipynb\" target=\"_parent\"><img src=\"https://colab.research.google.com/assets/colab-badge.svg\" alt=\"Open In Colab\"/></a>"
      ]
    },
    {
      "cell_type": "code",
      "metadata": {
        "id": "MVwFUy_ohIpm",
        "colab_type": "code",
        "colab": {}
      },
      "source": [
        "!pip install tpot==0.11.5 xgboost==0.90 -q"
      ],
      "execution_count": 0,
      "outputs": []
    },
    {
      "cell_type": "code",
      "metadata": {
        "id": "6V3nGDTlhC66",
        "colab_type": "code",
        "colab": {}
      },
      "source": [
        "import numpy as np\n",
        "import pandas as pd\n",
        "from sklearn.model_selection import train_test_split\n",
        "from sklearn.neighbors import KNeighborsRegressor\n",
        "from sklearn.pipeline import make_pipeline, make_union\n",
        "from tpot.builtins import StackingEstimator\n",
        "from xgboost import XGBRegressor\n",
        "from sklearn.preprocessing import FunctionTransformer\n",
        "from copy import copy\n",
        "from sklearn.metrics import r2_score as r2\n",
        "from sklearn.metrics import mean_squared_error as mse\n",
        "from sklearn.metrics import mean_absolute_error as mae\n",
        "from sklearn.model_selection import cross_val_score\n",
        "import warnings\n",
        "np.random.seed(0)\n",
        "np.seterr(all='warn')\n",
        "warnings.filterwarnings('ignore')"
      ],
      "execution_count": 0,
      "outputs": []
    },
    {
      "cell_type": "code",
      "metadata": {
        "id": "ZVflmE8yhC7H",
        "colab_type": "code",
        "colab": {}
      },
      "source": [
        "Data=pd.read_csv('https://raw.githubusercontent.com/kareem1925/Classical-and-quantum-regression-analysis-for-the-optoelectronic-performance-of-NTCDA/master/data.csv')\n",
        "features = Data.drop('I', axis=1).values\n",
        "\n",
        "X_train, X_test, y_train, y_test = train_test_split(features,\n",
        "                                                    Data['I'].values,\n",
        "                                                    test_size=0.15,\n",
        "                                                    random_state=0,\n",
        "                                                    shuffle=True)\n",
        "\n",
        "# Average CV score on the training set was:-5.3755355985260195e-11\n",
        "exported_pipeline = make_pipeline(\n",
        "    make_union(\n",
        "        FunctionTransformer(copy),\n",
        "        StackingEstimator(estimator=XGBRegressor(objective='reg:squarederror',learning_rate=1.0, max_depth=6, min_child_weight=19, n_estimators=100, nthread=1, subsample=0.6500000000000001))\n",
        "    ),\n",
        "    KNeighborsRegressor(algorithm=\"brute\", metric=\"minkowski\", n_neighbors=2, p=5, weights=\"distance\")\n",
        ")\n",
        "\n",
        "\n",
        "exported_pipeline.fit(X_train, y_train)\n",
        "result = exported_pipeline.predict(X_train)\n",
        "result_T = exported_pipeline.predict(X_test)"
      ],
      "execution_count": 0,
      "outputs": []
    },
    {
      "cell_type": "code",
      "metadata": {
        "id": "FI9nFtbXhC7S",
        "colab_type": "code",
        "outputId": "cd2d8b58-6af6-43a8-de12-331050492fd2",
        "colab": {
          "base_uri": "https://localhost:8080/",
          "height": 34
        }
      },
      "source": [
        "print('R^2 score = ', r2(y_test,exported_pipeline.predict(X_test)))"
      ],
      "execution_count": 0,
      "outputs": [
        {
          "output_type": "stream",
          "text": [
            "R^2 score =  0.9994390444178382\n"
          ],
          "name": "stdout"
        }
      ]
    },
    {
      "cell_type": "code",
      "metadata": {
        "id": "qQGp-NAKhC7c",
        "colab_type": "code",
        "outputId": "24031d01-c553-4de8-eebd-291995a7fb50",
        "colab": {
          "base_uri": "https://localhost:8080/",
          "height": 34
        }
      },
      "source": [
        "print('mean squared error on testing data = ', mse(y_test,exported_pipeline.predict(X_test)))"
      ],
      "execution_count": 0,
      "outputs": [
        {
          "output_type": "stream",
          "text": [
            "mean squared error on testing data =  3.6579438340338025e-11\n"
          ],
          "name": "stdout"
        }
      ]
    },
    {
      "cell_type": "code",
      "metadata": {
        "id": "_sV4eCrkhC7o",
        "colab_type": "code",
        "outputId": "4376d0a7-ddb6-463f-c798-753a2d2429cb",
        "colab": {
          "base_uri": "https://localhost:8080/",
          "height": 34
        }
      },
      "source": [
        "print('mean absolute error on testing data = ', mae(y_test,exported_pipeline.predict(X_test)))"
      ],
      "execution_count": 0,
      "outputs": [
        {
          "output_type": "stream",
          "text": [
            "mean absolute error on testing data =  2.674629296e-06\n"
          ],
          "name": "stdout"
        }
      ]
    },
    {
      "cell_type": "code",
      "metadata": {
        "id": "3Z5QOU2DhC7x",
        "colab_type": "code",
        "colab": {}
      },
      "source": [
        "scores = cross_val_score(X=X_train,y=y_train,estimator=exported_pipeline,cv=13,scoring='neg_mean_squared_error')"
      ],
      "execution_count": 0,
      "outputs": []
    },
    {
      "cell_type": "code",
      "metadata": {
        "id": "HlzVT7gchC76",
        "colab_type": "code",
        "outputId": "1badb0c6-e26d-433f-e738-b6942fabd973",
        "colab": {
          "base_uri": "https://localhost:8080/",
          "height": 34
        }
      },
      "source": [
        "abs(scores.mean())"
      ],
      "execution_count": 0,
      "outputs": [
        {
          "output_type": "execute_result",
          "data": {
            "text/plain": [
              "6.434502069638828e-11"
            ]
          },
          "metadata": {
            "tags": []
          },
          "execution_count": 8
        }
      ]
    },
    {
      "cell_type": "code",
      "metadata": {
        "id": "hDXxyKouhC8D",
        "colab_type": "code",
        "colab": {}
      },
      "source": [
        "config = {\n",
        "\n",
        "    'sklearn.linear_model.ElasticNetCV': {\n",
        "        'l1_ratio': np.arange(0.0, 1.01, 0.05),\n",
        "        'tol': [1e-5, 1e-4, 1e-3, 1e-2, 1e-1]\n",
        "    },\n",
        "\n",
        "    'sklearn.ensemble.ExtraTreesRegressor': {\n",
        "        'n_estimators': [100],\n",
        "        'max_features': np.arange(0.05, 1.01, 0.05),\n",
        "        'min_samples_split': range(2, 21),\n",
        "        'min_samples_leaf': range(1, 21),\n",
        "        'bootstrap': [True, False]\n",
        "    },\n",
        "\n",
        "    'sklearn.ensemble.GradientBoostingRegressor': {\n",
        "        'n_estimators': [100],\n",
        "        'loss': [\"ls\", \"lad\", \"huber\", \"quantile\"],\n",
        "        'learning_rate': [1e-3, 1e-2, 1e-1, 0.5, 1.],\n",
        "        'max_depth': range(1, 11),\n",
        "        'min_samples_split': range(2, 21),\n",
        "        'min_samples_leaf': range(1, 21),\n",
        "        'subsample': np.arange(0.05, 1.01, 0.05),\n",
        "        'max_features': np.arange(0.05, 1.01, 0.05),\n",
        "        'alpha': [0.75, 0.8, 0.85, 0.9, 0.95, 0.99]\n",
        "    },\n",
        "\n",
        "    'sklearn.ensemble.AdaBoostRegressor': {\n",
        "        'n_estimators': [100],\n",
        "        'learning_rate': [1e-3, 1e-2, 1e-1, 0.5, 1.],\n",
        "        'loss': [\"linear\", \"square\", \"exponential\"]\n",
        "    },\n",
        "\n",
        "    'sklearn.tree.DecisionTreeRegressor': {\n",
        "        'max_depth': range(1, 11),\n",
        "        'min_samples_split': range(2, 21),\n",
        "        'min_samples_leaf': range(1, 21)\n",
        "    },\n",
        "\n",
        "    'sklearn.neighbors.KNeighborsRegressor': {\n",
        "        'n_neighbors': range(1, 10),\n",
        "        'weights': [\"uniform\", \"distance\"],\n",
        "        'p': [1, 2,3,4,5],\n",
        "        'algorithm':['kd_tree','ball_tree','brute'],\n",
        "        'metric':['manhattan',\"chebyshev\",'euclidean','minkowski']\n",
        "    },\n",
        "\n",
        "    'sklearn.linear_model.LassoLarsCV': {\n",
        "        'normalize': [True, False]\n",
        "    },\n",
        "\n",
        "    'sklearn.svm.LinearSVR': {\n",
        "        'loss': [\"epsilon_insensitive\", \"squared_epsilon_insensitive\"],\n",
        "        'dual': [True, False],\n",
        "        'tol': [1e-5, 1e-4, 1e-3, 1e-2, 1e-1],\n",
        "        'C': [1e-4, 1e-3, 1e-2, 1e-1, 0.5, 1., 5., 10., 15., 20., 25.],\n",
        "        'epsilon': [1e-4, 1e-3, 1e-2, 1e-1, 1.]\n",
        "    },\n",
        "\n",
        "    'sklearn.ensemble.RandomForestRegressor': {\n",
        "        'n_estimators': [100],\n",
        "        'max_features': np.arange(0.05, 1.01, 0.05),\n",
        "        'min_samples_split': range(2, 21),\n",
        "        'min_samples_leaf': range(1, 21),\n",
        "        'bootstrap': [True, False]\n",
        "    },\n",
        "\n",
        "    'sklearn.linear_model.RidgeCV': {\n",
        "    },\n",
        "\n",
        "    'xgboost.XGBRegressor': {\n",
        "        'objective': ['reg:squarederror'],\n",
        "        'n_estimators': [100],\n",
        "        'max_depth': range(1, 11),\n",
        "        'learning_rate': [1e-3, 1e-2, 1e-1, 0.5, 1.],\n",
        "        'subsample': np.arange(0.05, 1.01, 0.05),\n",
        "        'min_child_weight': range(1, 21),\n",
        "        'nthread': [1]\n",
        "    },\n",
        "\n",
        "    # Preprocesssors\n",
        "    'sklearn.preprocessing.Binarizer': {\n",
        "        'threshold': np.arange(0.0, 1.01, 0.05)\n",
        "    },\n",
        "\n",
        "\n",
        "    'sklearn.cluster.FeatureAgglomeration': {\n",
        "        'linkage': ['ward', 'complete', 'average'],\n",
        "        'affinity': ['euclidean', 'l1', 'l2', 'manhattan', 'cosine']\n",
        "    },\n",
        "\n",
        "    'sklearn.preprocessing.MaxAbsScaler': {\n",
        "    },\n",
        "\n",
        "    'sklearn.preprocessing.MinMaxScaler': {\n",
        "    },\n",
        "\n",
        "    'sklearn.preprocessing.Normalizer': {\n",
        "        'norm': ['l1', 'l2', 'max']\n",
        "    },\n",
        "\n",
        "\n",
        "\n",
        "    'sklearn.decomposition.PCA': {\n",
        "        'svd_solver': ['randomized'],\n",
        "        'iterated_power': range(1, 11)\n",
        "    },\n",
        "\n",
        "    'sklearn.preprocessing.PolynomialFeatures': {\n",
        "        'degree': [2],\n",
        "        'include_bias': [False],\n",
        "        'interaction_only': [False]\n",
        "    },\n",
        "\n",
        "\n",
        "    'sklearn.preprocessing.RobustScaler': {\n",
        "    },\n",
        "\n",
        "    'sklearn.preprocessing.StandardScaler': {\n",
        "    },\n",
        "\n",
        "    'tpot.builtins.ZeroCount': {\n",
        "    },\n",
        "\n",
        "    'tpot.builtins.OneHotEncoder': {\n",
        "        'minimum_fraction': [0.05, 0.1, 0.15, 0.2, 0.25],\n",
        "        'sparse': [False],\n",
        "        'threshold': [10]\n",
        "    },\n",
        "\n",
        "\n",
        "    # Selectors\n",
        "    'sklearn.feature_selection.SelectFwe': {\n",
        "        'alpha': np.arange(0, 0.05, 0.001),\n",
        "        'score_func': {\n",
        "            'sklearn.feature_selection.f_regression': None\n",
        "        }\n",
        "    },\n",
        "\n",
        "    'sklearn.feature_selection.SelectPercentile': {\n",
        "        'percentile': range(1, 100),\n",
        "        'score_func': {\n",
        "            'sklearn.feature_selection.f_regression': None\n",
        "        }\n",
        "    },\n",
        "\n",
        "    'sklearn.feature_selection.VarianceThreshold': {\n",
        "        'threshold': [0.0001, 0.0005, 0.001, 0.005, 0.01, 0.05, 0.1, 0.2]\n",
        "    },\n",
        "\n",
        "    'sklearn.feature_selection.SelectFromModel': {\n",
        "        'threshold': np.arange(0, 1.01, 0.05),\n",
        "        'estimator': {\n",
        "            'sklearn.ensemble.ExtraTreesRegressor': {\n",
        "                'n_estimators': [100],\n",
        "                'max_features': np.arange(0.05, 1.01, 0.05)\n",
        "            }\n",
        "        }\n",
        "    }\n",
        "\n",
        "}"
      ],
      "execution_count": 0,
      "outputs": []
    },
    {
      "cell_type": "code",
      "metadata": {
        "id": "SlWu7vNDhlRS",
        "colab_type": "code",
        "colab": {}
      },
      "source": [
        "from tpot import TPOTRegressor"
      ],
      "execution_count": 0,
      "outputs": []
    },
    {
      "cell_type": "code",
      "metadata": {
        "id": "Y5Rbi1Cohofr",
        "colab_type": "code",
        "outputId": "ea834f01-25c8-41dd-c79e-187d5a6855de",
        "colab": {
          "base_uri": "https://localhost:8080/",
          "height": 938,
          "referenced_widgets": [
            "a288e14dbe564a00a19656b75e377ee3",
            "ba43961db3a44383a0be0229bfbb519c",
            "2a083824feef4a28b039e83bc35ea631",
            "d32d5b01f1ad464fbaf629c84a52a16c",
            "195f072838ba421d8ba0ab4d406f045e",
            "952ec041a3c641aba76bf25e5c724ee4",
            "664987baf37c4dd1a1b5edf44cf1b6c8",
            "1de735c6de1d4d849f3cbcc18043b6f5"
          ]
        }
      },
      "source": [
        "tpot = TPOTRegressor(generations=50,cv=13,population_size=100,\n",
        "                    config_dict=config,\n",
        "                    scoring='neg_mean_squared_error'\n",
        "                    ,n_jobs=20,verbosity=2\n",
        "                    ,crossover_rate=.15,mutation_rate=.85,warm_start=False)\n",
        "tpot.fit(X_train, y_train)\n",
        "print(tpot.score(X_test, y_test))"
      ],
      "execution_count": 0,
      "outputs": [
        {
          "output_type": "display_data",
          "data": {
            "application/vnd.jupyter.widget-view+json": {
              "model_id": "a288e14dbe564a00a19656b75e377ee3",
              "version_minor": 0,
              "version_major": 2
            },
            "text/plain": [
              "HBox(children=(FloatProgress(value=0.0, description='Optimization Progress', max=5100.0, style=ProgressStyle(d…"
            ]
          },
          "metadata": {
            "tags": []
          }
        },
        {
          "output_type": "stream",
          "text": [
            "\n",
            "Generation 1 - Current best internal CV score: -5.576363431328948e-11\n",
            "Generation 2 - Current best internal CV score: -5.576363431328948e-11\n",
            "Generation 3 - Current best internal CV score: -5.576363431328948e-11\n",
            "Generation 4 - Current best internal CV score: -5.576363431328948e-11\n",
            "Generation 5 - Current best internal CV score: -5.576363431328948e-11\n",
            "Generation 6 - Current best internal CV score: -5.576363431328948e-11\n",
            "Generation 7 - Current best internal CV score: -5.3627948189870196e-11\n",
            "Generation 8 - Current best internal CV score: -5.24033230531384e-11\n",
            "Generation 9 - Current best internal CV score: -5.24033230531384e-11\n",
            "Generation 10 - Current best internal CV score: -5.24033230531384e-11\n",
            "Generation 11 - Current best internal CV score: -5.24033230531384e-11\n",
            "Generation 12 - Current best internal CV score: -5.24033230531384e-11\n",
            "Generation 13 - Current best internal CV score: -5.24033230531384e-11\n",
            "Generation 14 - Current best internal CV score: -5.24033230531384e-11\n",
            "Generation 15 - Current best internal CV score: -5.240332305313835e-11\n",
            "Generation 16 - Current best internal CV score: -5.240332305313835e-11\n",
            "Generation 17 - Current best internal CV score: -5.240332305313835e-11\n",
            "Generation 18 - Current best internal CV score: -5.240332305313834e-11\n",
            "Generation 19 - Current best internal CV score: -5.2349648207847006e-11\n",
            "Generation 20 - Current best internal CV score: -5.2349648207847006e-11\n",
            "Generation 21 - Current best internal CV score: -5.2349648207847006e-11\n",
            "Generation 22 - Current best internal CV score: -5.234964820784694e-11\n",
            "Generation 23 - Current best internal CV score: -5.234964820784694e-11\n",
            "Generation 24 - Current best internal CV score: -5.233423184595107e-11\n",
            "Generation 25 - Current best internal CV score: -5.233423184595107e-11\n",
            "Generation 26 - Current best internal CV score: -5.2299941964849666e-11\n",
            "Generation 27 - Current best internal CV score: -5.2299941964849666e-11\n",
            "Generation 28 - Current best internal CV score: -5.067767135894081e-11\n",
            "Generation 29 - Current best internal CV score: -4.8326851502547217e-11\n",
            "Generation 30 - Current best internal CV score: -4.8326851502547217e-11\n",
            "Generation 31 - Current best internal CV score: -4.8326851502547217e-11\n",
            "Generation 32 - Current best internal CV score: -4.8326851502547217e-11\n",
            "Generation 33 - Current best internal CV score: -4.8326851502547217e-11\n",
            "Generation 34 - Current best internal CV score: -4.8326851502547217e-11\n",
            "Generation 35 - Current best internal CV score: -4.8326851502547217e-11\n",
            "Generation 36 - Current best internal CV score: -4.8326851502547217e-11\n",
            "Generation 37 - Current best internal CV score: -4.8326851502547217e-11\n",
            "Generation 38 - Current best internal CV score: -4.8326851502547217e-11\n",
            "Generation 39 - Current best internal CV score: -4.8326851502547217e-11\n",
            "Generation 40 - Current best internal CV score: -4.8326851502547217e-11\n",
            "Generation 41 - Current best internal CV score: -4.8326851502547217e-11\n",
            "Generation 42 - Current best internal CV score: -4.8326851502547217e-11\n",
            "Generation 43 - Current best internal CV score: -4.8326851502547217e-11\n",
            "Generation 44 - Current best internal CV score: -4.8326851502547217e-11\n",
            "Generation 45 - Current best internal CV score: -4.8326851502547217e-11\n",
            "Generation 46 - Current best internal CV score: -4.8326851502547217e-11\n",
            "Generation 47 - Current best internal CV score: -4.8326851502547217e-11\n",
            "Generation 48 - Current best internal CV score: -4.830376202331399e-11\n",
            "Generation 49 - Current best internal CV score: -4.830376202331399e-11\n",
            "Generation 50 - Current best internal CV score: -4.830376202331399e-11\n",
            "Best pipeline: KNeighborsRegressor(CombineDFs(CombineDFs(input_matrix, input_matrix), RobustScaler(FeatureAgglomeration(RobustScaler(GradientBoostingRegressor(CombineDFs(input_matrix, FeatureAgglomeration(input_matrix, affinity=l1, linkage=complete)), alpha=0.75, learning_rate=0.01, loss=huber, max_depth=6, max_features=0.6000000000000001, min_samples_leaf=3, min_samples_split=11, n_estimators=100, subsample=0.3)), affinity=l1, linkage=average))), algorithm=kd_tree, metric=manhattan, n_neighbors=2, p=3, weights=distance)\n",
            "-6.405134836119528e-11\n"
          ],
          "name": "stdout"
        }
      ]
    },
    {
      "cell_type": "code",
      "metadata": {
        "id": "QUmlmyRvhpp3",
        "colab_type": "code",
        "colab": {}
      },
      "source": [
        "tpot.export('tpot_regressor.py')"
      ],
      "execution_count": 0,
      "outputs": []
    },
    {
      "cell_type": "code",
      "metadata": {
        "id": "zRIcYBaExANw",
        "colab_type": "code",
        "colab": {}
      },
      "source": [
        ""
      ],
      "execution_count": 0,
      "outputs": []
    }
  ]
}