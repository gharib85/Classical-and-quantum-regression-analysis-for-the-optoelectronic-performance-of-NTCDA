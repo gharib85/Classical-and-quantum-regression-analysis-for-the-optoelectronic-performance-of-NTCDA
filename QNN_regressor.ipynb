{
 "cells": [
  {
   "cell_type": "code",
   "execution_count": 63,
   "metadata": {
    "colab": {
     "base_uri": "https://localhost:8080/",
     "height": 34
    },
    "colab_type": "code",
    "id": "x_pTPIK1Y2Oz",
    "outputId": "423e7cf8-3166-4612-fcaf-c9707274eaa2"
   },
   "outputs": [],
   "source": [
    "import pennylane as qml\n",
    "from pennylane import numpy as np\n",
    "from pennylane.optimize import AdamOptimizer,NesterovMomentumOptimizer,AdagradOptimizer,RMSPropOptimizer\n",
    "import pandas as pd\n",
    "from sklearn.preprocessing import StandardScaler,MinMaxScaler\n",
    "from sklearn.model_selection import train_test_split\n",
    "from sklearn.metrics import mean_squared_error as mse\n",
    "from sklearn.metrics import r2_score as r2\n",
    "from sklearn.metrics import mean_absolute_error as mae\n",
    "from sklearn.utils import shuffle\n",
    "import strawberryfields as sf\n",
    "from strawberryfields.ops import *\n",
    "import matplotlib.pyplot as plt\n",
    "from mpl_toolkits.mplot3d import Axes3D\n",
    "from sklearn.model_selection import train_test_split\n",
    "import time"
   ]
  },
  {
   "cell_type": "code",
   "execution_count": 64,
   "metadata": {},
   "outputs": [],
   "source": [
    "dev = qml.device('strawberryfields.fock', wires=1, cutoff_dim=18,hbar=2)"
   ]
  },
  {
   "cell_type": "code",
   "execution_count": 65,
   "metadata": {
    "colab": {},
    "colab_type": "code",
    "id": "dfCYih1iZO6d"
   },
   "outputs": [],
   "source": [
    "def ansatz(v):\n",
    "    qml.Rotation(v[0], wires=0)\n",
    "    qml.Squeezing(v[1], 0, wires=0)\n",
    "    qml.Rotation(v[2], wires=0)\n",
    "    qml.Displacement(v[3], 0, wires=0)\n",
    "    qml.Kerr(v[4], wires=0)"
   ]
  },
  {
   "cell_type": "code",
   "execution_count": 66,
   "metadata": {
    "colab": {},
    "colab_type": "code",
    "id": "1qF8jx00ZWmg"
   },
   "outputs": [],
   "source": [
    "@qml.qnode(dev)\n",
    "def qnn(var, x=None):\n",
    "    \n",
    "    # Encode input x into quantum state\n",
    "    qml.DisplacedSqueezedState(x[0], 0,x[1],0, wires=0)\n",
    "\n",
    "    for v in (var):\n",
    "        ansatz(v)\n",
    "\n",
    "    return qml.expval(qml.X(0))"
   ]
  },
  {
   "cell_type": "code",
   "execution_count": 67,
   "metadata": {
    "colab": {},
    "colab_type": "code",
    "id": "WmHLSkl5ZgXo"
   },
   "outputs": [],
   "source": [
    "@qml.qnode(dev)\n",
    "def trace(var, x=None):\n",
    "    \n",
    "    qml.DisplacedSqueezedState(x[0],0,x[1],0,wires=0)\n",
    "    \n",
    "    for v in var:\n",
    "    \n",
    "        ansatz(v)\n",
    "    \n",
    "    return qml.expval(qml.Identity([0]))"
   ]
  },
  {
   "cell_type": "code",
   "execution_count": 68,
   "metadata": {
    "colab": {},
    "colab_type": "code",
    "id": "8yfukXtSZjdx"
   },
   "outputs": [],
   "source": [
    "def cost(var, features, labels):\n",
    "\n",
    "    out = 0\n",
    "\n",
    "    for i in range(len(features)):\n",
    "        \n",
    "        preds = qnn(var,x=features[i])\n",
    "    \n",
    "        out = out + (preds-labels[i])**2\n",
    "    \n",
    "    traces = [trace(var, x=x) for x in features]\n",
    "    \n",
    "    traces = (1-abs(np.array(traces))).mean()\n",
    "\n",
    "    return (out/len(features))+0.01*traces"
   ]
  },
  {
   "cell_type": "code",
   "execution_count": 69,
   "metadata": {
    "colab": {
     "base_uri": "https://localhost:8080/",
     "height": 34
    },
    "colab_type": "code",
    "id": "__urz4yOZ1wh",
    "outputId": "98e9b9ef-6ad9-4af1-9009-263c4d1ff395"
   },
   "outputs": [
    {
     "data": {
      "text/plain": [
       "(array([0.90869565, 0.8       ]), 1.02944, 0.000407583)"
      ]
     },
     "execution_count": 69,
     "metadata": {},
     "output_type": "execute_result"
    }
   ],
   "source": [
    "\n",
    "data = pd.read_csv('data.csv')\n",
    "\n",
    "features = data.drop('I', axis=1).values\n",
    "I = data.I.values\n",
    "\n",
    "I = data.I.values*1000\n",
    "\n",
    "X_train, X_test, y_train, y_test = train_test_split(features,I,\n",
    "                                                    test_size=0.15,random_state=0)\n",
    "\n",
    "Volt = X_train[:,0:1]\n",
    "Inten = X_train[:,1:]\n",
    "\n",
    "disp_scale = MinMaxScaler(feature_range=(-1.1,1)).fit(Volt)\n",
    "\n",
    "squeeze_scale = MinMaxScaler(feature_range=(0,0.8)).fit(Inten)\n",
    "\n",
    "X_train[:,0:1] = disp_scale.transform(X_train[:,0:1])\n",
    "X_train[:,1:] = squeeze_scale.transform(X_train[:,1:])\n",
    "\n",
    "X_test[:,0:1] = disp_scale.transform(X_test[:,0:1])\n",
    "X_test[:,1:] = squeeze_scale.transform(X_test[:,1:])\n",
    "\n",
    "X_train[5],y_train[5],abs(I).min()"
   ]
  },
  {
   "cell_type": "code",
   "execution_count": 70,
   "metadata": {
    "colab": {},
    "colab_type": "code",
    "id": "MEgq9SVeaUHH"
   },
   "outputs": [],
   "source": [
    "def accuracy(labels, predictions):\n",
    "    score = mse(labels,predictions)\n",
    "    s = mae(labels,predictions)\n",
    "    r =r2(labels,predictions)\n",
    "    return score,s,r"
   ]
  },
  {
   "cell_type": "code",
   "execution_count": 72,
   "metadata": {
    "colab": {},
    "colab_type": "code",
    "id": "GR68SGaibF22"
   },
   "outputs": [],
   "source": [
    "\n",
    "def testing(var,features):\n",
    "    result = []\n",
    "    for i in range(len(features)):\n",
    "        preds = qnn(var,x=features[i])\n",
    "        result.append(preds)\n",
    "    return np.array(result).reshape(-1,1)\n",
    "\n",
    "def next_batch(X, y, batchSize):\n",
    "    rem = len(X)//batchSize\n",
    "    out = len(X)%batchSize\n",
    "    # loop over our dataset `X` in mini-batches of size `batchSize`\n",
    "    for id ,i in enumerate(np.arange(0, X.shape[0], batchSize)):\n",
    "        # yield a tuple of the current batched data and labels\n",
    "        if id == rem and out != 0:\n",
    "            temp = abs(batchSize-out)\n",
    "            d = X[i:i + batchSize]\n",
    "            l = y[i:i + batchSize]\n",
    "            batch = np.random.choice(622,temp,replace=False)\n",
    "            \n",
    "            dd,ll = X[batch],y[batch]\n",
    "\n",
    "            return (np.vstack((d,dd)),np.vstack((l.reshape(-1,1),ll.reshape(-1,1))))\n",
    "        yield (X[i:i + batchSize], y[i:i + batchSize])"
   ]
  },
  {
   "cell_type": "code",
   "execution_count": null,
   "metadata": {
    "colab": {
     "base_uri": "https://localhost:8080/",
     "height": 1000
    },
    "colab_type": "code",
    "id": "jeF6jNCQbXls",
    "outputId": "24221050-6f73-4aae-ca41-eac9d174ae57"
   },
   "outputs": [],
   "source": [
    "weight_epoch=[]\n",
    "test = []\n",
    "weights = []    \n",
    "mse_v = []\n",
    "\n",
    "np.random.seed(1220)\n",
    "var_init = np.random.normal(0,0.001,(8,5))\n",
    "var = var_init\n",
    "opt = AdamOptimizer(0.01, beta1=0.9, beta2=0.999)\n",
    "opt.reset()\n",
    "old_acc = - np.inf\n",
    "update_var = var\n",
    "for it in range(10000):\n",
    "    \n",
    "    now = time.time()\n",
    "    batch_test = np.random.choice(X_test.shape[0],X_test.shape[0],replace=False)\n",
    "    X_test1 = X_test[batch_test]\n",
    "    y_test1 = y_test[batch_test]\n",
    "  \n",
    "    batch = np.random.choice(X_train.shape[0],X_train.shape[0],replace=False)\n",
    "    \n",
    "    feats_train_11 =X_train[batch]\n",
    "    \n",
    "    Y_train1 = y_train[batch]\n",
    "\n",
    "    for id,(batchX, batchY) in enumerate(next_batch(feats_train_11, Y_train1,32)):\n",
    "        \n",
    "        var = opt.step(lambda v: cost(v, batchX, batchY), var)\n",
    "        weights.append(var)\n",
    "        \n",
    "        \n",
    "\n",
    "\n",
    "    t=trace(var,x=X_train[5])\n",
    "    print(\"Trace: {:0.5f}\".format(t))   \n",
    "    \n",
    "    predictions = testing(var,X_test1)\n",
    "    ww = accuracy(y_test1, predictions)\n",
    "    acc_test = ww[2]\n",
    "    acc_m = ww[0]\n",
    "    weight_epoch.append(var)\n",
    "    np.save('weights_per_epoch',np.array(weight_epoch))\n",
    "\n",
    "    test.append(acc_test)\n",
    "    np.save('testing',test)\n",
    "    mse_v.append(acc_m)\n",
    "    \n",
    "    if acc_test > old_acc:\n",
    "        update_var = var\n",
    "        old_acc = acc_test\n",
    "        print(\"  \")\n",
    "        print('model improved')\n",
    "        print(\"  \")\n",
    "    \n",
    "    print(\"Iter:{:5d} | mse: {:0.18e} | mae: {:0.18e} | R2: {:0.6f}\".format(it + 1,ww[0],ww[1],ww[2]),'time:', int((time.time()-now)))"
   ]
  }
 ],
 "metadata": {
  "colab": {
   "authorship_tag": "ABX9TyMpVPOUCPGnx/wg0dEJsDbt",
   "name": "QNN regressor.ipynb",
   "provenance": []
  },
  "kernelspec": {
   "display_name": "Python 3",
   "language": "python",
   "name": "python3"
  },
  "language_info": {
   "codemirror_mode": {
    "name": "ipython",
    "version": 3
   },
   "file_extension": ".py",
   "mimetype": "text/x-python",
   "name": "python",
   "nbconvert_exporter": "python",
   "pygments_lexer": "ipython3",
   "version": "3.8.2"
  }
 },
 "nbformat": 4,
 "nbformat_minor": 1
}
