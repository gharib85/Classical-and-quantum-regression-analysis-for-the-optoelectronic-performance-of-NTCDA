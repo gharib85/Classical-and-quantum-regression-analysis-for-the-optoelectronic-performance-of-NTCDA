{
  "nbformat": 4,
  "nbformat_minor": 0,
  "metadata": {
    "colab": {
      "name": "QNN regressor.ipynb",
      "provenance": [],
      "include_colab_link": true
    },
    "kernelspec": {
      "display_name": "Python 3",
      "language": "python",
      "name": "python3"
    },
    "language_info": {
      "codemirror_mode": {
        "name": "ipython",
        "version": 3
      },
      "file_extension": ".py",
      "mimetype": "text/x-python",
      "name": "python",
      "nbconvert_exporter": "python",
      "pygments_lexer": "ipython3",
      "version": "3.8.2"
    }
  },
  "cells": [
    {
      "cell_type": "markdown",
      "metadata": {
        "id": "view-in-github",
        "colab_type": "text"
      },
      "source": [
        "<a href=\"https://colab.research.google.com/github/kareem1925/Classical-and-quantum-regression-analysis-for-the-optoelectronic-performance-of-NTCDA/blob/master/QNN_regressor.ipynb\" target=\"_parent\"><img src=\"https://colab.research.google.com/assets/colab-badge.svg\" alt=\"Open In Colab\"/></a>"
      ]
    },
    {
      "cell_type": "markdown",
      "metadata": {
        "id": "XPhGqJ4Ak2t0",
        "colab_type": "text"
      },
      "source": [
        "## Installing required packages into colab and refreshing the environment\n"
      ]
    },
    {
      "cell_type": "code",
      "metadata": {
        "id": "QM9B1Z3dkX_-",
        "colab_type": "code",
        "colab": {}
      },
      "source": [
        "!pip install pennylane==0.10.0 strawberryfields==0.14.0 pennylane-sf==0.9.0 -q\n",
        "import os\n",
        "os.kill(os.getpid(), 9)"
      ],
      "execution_count": null,
      "outputs": []
    },
    {
      "cell_type": "markdown",
      "metadata": {
        "id": "dvbmsXMmmH77",
        "colab_type": "text"
      },
      "source": [
        "## Attention\n",
        "If you are using colab, you should clone the repo below so that you can import some helper functions."
      ]
    },
    {
      "cell_type": "code",
      "metadata": {
        "id": "W9F-hSfylVnQ",
        "colab_type": "code",
        "colab": {
          "base_uri": "https://localhost:8080/",
          "height": 119
        },
        "outputId": "f9499f31-b3d7-49e8-bfac-60b26adf199e"
      },
      "source": [
        "!git clone https://github.com/kareem1925/Classical-and-quantum-regression-analysis-for-the-optoelectronic-performance-of-NTCDA"
      ],
      "execution_count": 2,
      "outputs": [
        {
          "output_type": "stream",
          "text": [
            "Cloning into 'Classical-and-quantum-regression-analysis-for-the-optoelectronic-performance-of-NTCDA'...\n",
            "remote: Enumerating objects: 81, done.\u001b[K\n",
            "remote: Counting objects:   1% (1/81)\u001b[K\rremote: Counting objects:   2% (2/81)\u001b[K\rremote: Counting objects:   3% (3/81)\u001b[K\rremote: Counting objects:   4% (4/81)\u001b[K\rremote: Counting objects:   6% (5/81)\u001b[K\rremote: Counting objects:   7% (6/81)\u001b[K\rremote: Counting objects:   8% (7/81)\u001b[K\rremote: Counting objects:   9% (8/81)\u001b[K\rremote: Counting objects:  11% (9/81)\u001b[K\rremote: Counting objects:  12% (10/81)\u001b[K\rremote: Counting objects:  13% (11/81)\u001b[K\rremote: Counting objects:  14% (12/81)\u001b[K\rremote: Counting objects:  16% (13/81)\u001b[K\rremote: Counting objects:  17% (14/81)\u001b[K\rremote: Counting objects:  18% (15/81)\u001b[K\rremote: Counting objects:  19% (16/81)\u001b[K\rremote: Counting objects:  20% (17/81)\u001b[K\rremote: Counting objects:  22% (18/81)\u001b[K\rremote: Counting objects:  23% (19/81)\u001b[K\rremote: Counting objects:  24% (20/81)\u001b[K\rremote: Counting objects:  25% (21/81)\u001b[K\rremote: Counting objects:  27% (22/81)\u001b[K\rremote: Counting objects:  28% (23/81)\u001b[K\rremote: Counting objects:  29% (24/81)\u001b[K\rremote: Counting objects:  30% (25/81)\u001b[K\rremote: Counting objects:  32% (26/81)\u001b[K\rremote: Counting objects:  33% (27/81)\u001b[K\rremote: Counting objects:  34% (28/81)\u001b[K\rremote: Counting objects:  35% (29/81)\u001b[K\rremote: Counting objects:  37% (30/81)\u001b[K\rremote: Counting objects:  38% (31/81)\u001b[K\rremote: Counting objects:  39% (32/81)\u001b[K\rremote: Counting objects:  40% (33/81)\u001b[K\rremote: Counting objects:  41% (34/81)\u001b[K\rremote: Counting objects:  43% (35/81)\u001b[K\rremote: Counting objects:  44% (36/81)\u001b[K\rremote: Counting objects:  45% (37/81)\u001b[K\rremote: Counting objects:  46% (38/81)\u001b[K\rremote: Counting objects:  48% (39/81)\u001b[K\rremote: Counting objects:  49% (40/81)\u001b[K\rremote: Counting objects:  50% (41/81)\u001b[K\rremote: Counting objects:  51% (42/81)\u001b[K\rremote: Counting objects:  53% (43/81)\u001b[K\rremote: Counting objects:  54% (44/81)\u001b[K\rremote: Counting objects:  55% (45/81)\u001b[K\rremote: Counting objects:  56% (46/81)\u001b[K\rremote: Counting objects:  58% (47/81)\u001b[K\rremote: Counting objects:  59% (48/81)\u001b[K\rremote: Counting objects:  60% (49/81)\u001b[K\rremote: Counting objects:  61% (50/81)\u001b[K\rremote: Counting objects:  62% (51/81)\u001b[K\rremote: Counting objects:  64% (52/81)\u001b[K\rremote: Counting objects:  65% (53/81)\u001b[K\rremote: Counting objects:  66% (54/81)\u001b[K\rremote: Counting objects:  67% (55/81)\u001b[K\rremote: Counting objects:  69% (56/81)\u001b[K\rremote: Counting objects:  70% (57/81)\u001b[K\rremote: Counting objects:  71% (58/81)\u001b[K\rremote: Counting objects:  72% (59/81)\u001b[K\rremote: Counting objects:  74% (60/81)\u001b[K\rremote: Counting objects:  75% (61/81)\u001b[K\rremote: Counting objects:  76% (62/81)\u001b[K\rremote: Counting objects:  77% (63/81)\u001b[K\rremote: Counting objects:  79% (64/81)\u001b[K\rremote: Counting objects:  80% (65/81)\u001b[K\rremote: Counting objects:  81% (66/81)\u001b[K\rremote: Counting objects:  82% (67/81)\u001b[K\rremote: Counting objects:  83% (68/81)\u001b[K\rremote: Counting objects:  85% (69/81)\u001b[K\rremote: Counting objects:  86% (70/81)\u001b[K\rremote: Counting objects:  87% (71/81)\u001b[K\rremote: Counting objects:  88% (72/81)\u001b[K\rremote: Counting objects:  90% (73/81)\u001b[K\rremote: Counting objects:  91% (74/81)\u001b[K\rremote: Counting objects:  92% (75/81)\u001b[K\rremote: Counting objects:  93% (76/81)\u001b[K\rremote: Counting objects:  95% (77/81)\u001b[K\rremote: Counting objects:  96% (78/81)\u001b[K\rremote: Counting objects:  97% (79/81)\u001b[K\rremote: Counting objects:  98% (80/81)\u001b[K\rremote: Counting objects: 100% (81/81)\u001b[K\rremote: Counting objects: 100% (81/81), done.\u001b[K\n",
            "remote: Compressing objects: 100% (73/73), done.\u001b[K\n",
            "remote: Total 81 (delta 38), reused 26 (delta 8), pack-reused 0\u001b[K\n",
            "Unpacking objects: 100% (81/81), done.\n"
          ],
          "name": "stdout"
        }
      ]
    },
    {
      "cell_type": "code",
      "metadata": {
        "id": "HwcX-D4Glrp2",
        "colab_type": "code",
        "colab": {
          "base_uri": "https://localhost:8080/",
          "height": 34
        },
        "outputId": "c73d6af5-3665-46cf-bf68-89eee9f2a19d"
      },
      "source": [
        "cd Classical-and-quantum-regression-analysis-for-the-optoelectronic-performance-of-NTCDA/"
      ],
      "execution_count": 6,
      "outputs": [
        {
          "output_type": "stream",
          "text": [
            "/content/Classical-and-quantum-regression-analysis-for-the-optoelectronic-performance-of-NTCDA\n"
          ],
          "name": "stdout"
        }
      ]
    },
    {
      "cell_type": "code",
      "metadata": {
        "colab_type": "code",
        "id": "x_pTPIK1Y2Oz",
        "colab": {}
      },
      "source": [
        "import pennylane as qml\n",
        "from pennylane import numpy as np\n",
        "from pennylane.optimize import AdamOptimizer,NesterovMomentumOptimizer,AdagradOptimizer,RMSPropOptimizer\n",
        "from sklearn.utils import shuffle\n",
        "import strawberryfields as sf\n",
        "from strawberryfields.ops import *\n",
        "import matplotlib.pyplot as plt\n",
        "from mpl_toolkits.mplot3d import Axes3D\n",
        "import time\n",
        "from utils import testing,accuracy,next_batch,data_preparation"
      ],
      "execution_count": 8,
      "outputs": []
    },
    {
      "cell_type": "code",
      "metadata": {
        "id": "XBJj-NPBkW5y",
        "colab_type": "code",
        "colab": {}
      },
      "source": [
        "\"\"\"\n",
        "\n",
        "A quantum device tht has 18 dimensions and the hbar is set to 2\n",
        "\n",
        "\"\"\"\n",
        "dev = qml.device('strawberryfields.fock', wires=1, cutoff_dim=18,hbar=2)"
      ],
      "execution_count": null,
      "outputs": []
    },
    {
      "cell_type": "markdown",
      "metadata": {
        "id": "ygW0ARfsmxJZ",
        "colab_type": "text"
      },
      "source": [
        "## The quantum layer that would be repeated 8 times."
      ]
    },
    {
      "cell_type": "code",
      "metadata": {
        "colab_type": "code",
        "id": "dfCYih1iZO6d",
        "colab": {}
      },
      "source": [
        "def ansatz(v):\n",
        "    qml.Rotation(v[0], wires=0)\n",
        "    qml.Squeezing(v[1], 0, wires=0)\n",
        "    qml.Rotation(v[2], wires=0)\n",
        "    qml.Displacement(v[3], 0, wires=0)\n",
        "    qml.Kerr(v[4], wires=0)"
      ],
      "execution_count": 10,
      "outputs": []
    },
    {
      "cell_type": "markdown",
      "metadata": {
        "id": "9DHPIOXInB1Q",
        "colab_type": "text"
      },
      "source": [
        "## The quantum node"
      ]
    },
    {
      "cell_type": "code",
      "metadata": {
        "colab_type": "code",
        "id": "1qF8jx00ZWmg",
        "colab": {}
      },
      "source": [
        "@qml.qnode(dev)\n",
        "def qnn(var, x=None):\n",
        "    \n",
        "    # Encoding the volt and intensity into quantum states\n",
        "    qml.DisplacedSqueezedState(x[0], 0,x[1],0, wires=0)\n",
        "\n",
        "    for v in (var):\n",
        "        ansatz(v)\n",
        "\n",
        "    return qml.expval(qml.X(0))"
      ],
      "execution_count": 11,
      "outputs": []
    },
    {
      "cell_type": "markdown",
      "metadata": {
        "id": "s_U4wyGOnN0w",
        "colab_type": "text"
      },
      "source": [
        "### Computing the trace of the system"
      ]
    },
    {
      "cell_type": "code",
      "metadata": {
        "colab_type": "code",
        "id": "WmHLSkl5ZgXo",
        "colab": {}
      },
      "source": [
        "@qml.qnode(dev)\n",
        "def trace(var, x=None):\n",
        "    \n",
        "    qml.DisplacedSqueezedState(x[0],0,x[1],0,wires=0)\n",
        "    \n",
        "    for v in var:\n",
        "    \n",
        "        ansatz(v)\n",
        "    \n",
        "    return qml.expval(qml.Identity([0]))"
      ],
      "execution_count": 12,
      "outputs": []
    },
    {
      "cell_type": "markdown",
      "metadata": {
        "id": "HGPl8spHnUFz",
        "colab_type": "text"
      },
      "source": [
        "### The cost function"
      ]
    },
    {
      "cell_type": "code",
      "metadata": {
        "colab_type": "code",
        "id": "8yfukXtSZjdx",
        "colab": {}
      },
      "source": [
        "def cost(var, features, labels):\n",
        "\n",
        "    out = 0\n",
        "\n",
        "    for i in range(len(features)):\n",
        "        \n",
        "        preds = qnn(var,x=features[i])\n",
        "    \n",
        "        out = out + (preds-labels[i])**2\n",
        "    \n",
        "    traces = [trace(var, x=x) for x in features]\n",
        "    \n",
        "    traces = (1-abs(np.array(traces))).mean()\n",
        "\n",
        "    return (out/len(features))+0.01*traces"
      ],
      "execution_count": 13,
      "outputs": []
    },
    {
      "cell_type": "markdown",
      "metadata": {
        "id": "YaIjBJyjnX3R",
        "colab_type": "text"
      },
      "source": [
        "## Preparing the dataset for computation as mentioned in the paper"
      ]
    },
    {
      "cell_type": "code",
      "metadata": {
        "colab_type": "code",
        "id": "__urz4yOZ1wh",
        "colab": {}
      },
      "source": [
        "X_train, X_test, y_train, y_test = data_preparation()"
      ],
      "execution_count": 14,
      "outputs": []
    },
    {
      "cell_type": "markdown",
      "metadata": {
        "id": "iYZDdBuznclc",
        "colab_type": "text"
      },
      "source": [
        "## The results that we achieved from training"
      ]
    },
    {
      "cell_type": "code",
      "metadata": {
        "id": "LjNCWfZGkW6U",
        "colab_type": "code",
        "colab": {
          "base_uri": "https://localhost:8080/",
          "height": 85
        },
        "outputId": "6e4ac9ec-86ca-46db-b42d-6799e10f7da4"
      },
      "source": [
        "best_weights = np.load('./assets/qnn_weights_per_epoch.npy')[363]\n",
        "\n",
        "test_pred = testing(best_weights,X_test)\n",
        "\n",
        "train_pred = testing(best_weights,X_train)\n",
        "\n",
        "testing_results = accuracy(y_test/1000,test_pred/1000)\n",
        "\n",
        "training_results = accuracy(y_train/1000,train_pred/1000)\n",
        "\n",
        "print('testing results: \\n','MSE: ',testing_results[0],' | ',\n",
        "      'MAE: ',testing_results[1],' | ', 'R^2: ',testing_results[2])\n",
        "\n",
        "print('training results: \\n','MSE: ',training_results[0],' | ',\n",
        "      'MAE: ',training_results[1], ' | ', 'R^2: ',training_results[2])\n"
      ],
      "execution_count": 15,
      "outputs": [
        {
          "output_type": "stream",
          "text": [
            "testing results: \n",
            " MSE:  9.695218817688523e-11  |  MAE:  7.676295551862258e-06  |  R^2:  0.9985132119674823\n",
            "training results: \n",
            " MSE:  1.2655411646766855e-10  |  MAE:  8.801097994493057e-06  |  R^2:  0.9985142035733218\n"
          ],
          "name": "stdout"
        }
      ]
    },
    {
      "cell_type": "markdown",
      "metadata": {
        "id": "aPZAjhdonlEe",
        "colab_type": "text"
      },
      "source": [
        "## Training loop"
      ]
    },
    {
      "cell_type": "code",
      "metadata": {
        "colab_type": "code",
        "id": "jeF6jNCQbXls",
        "colab": {}
      },
      "source": [
        "weight_epoch=[]\n",
        "test = []\n",
        "weights = []    \n",
        "mse_v = []\n",
        "\n",
        "np.random.seed(1220)\n",
        "var_init = np.random.normal(0,0.001,(8,5))\n",
        "var = var_init\n",
        "opt = AdamOptimizer(0.01, beta1=0.9, beta2=0.999)\n",
        "opt.reset()\n",
        "old_acc = - np.inf\n",
        "update_var = var\n",
        "\n",
        "for it in range(10000):\n",
        "    \n",
        "    now = time.time()\n",
        "    \n",
        "    batch_test = np.random.choice(X_test.shape[0],X_test.shape[0],replace=False)\n",
        "    \n",
        "    X_test1 = X_test[batch_test]\n",
        "    y_test1 = y_test[batch_test]\n",
        "  \n",
        "    batch = np.random.choice(X_train.shape[0],X_train.shape[0],replace=False)\n",
        "    \n",
        "    feats_train_11 =X_train[batch]\n",
        "    \n",
        "    Y_train1 = y_train[batch]\n",
        "\n",
        "    for id,(batchX, batchY) in enumerate(next_batch(feats_train_11, Y_train1,32)):\n",
        "        \n",
        "        var = opt.step(lambda v: cost(v, batchX, batchY), var)\n",
        "        weights.append(var)\n",
        "        \n",
        "\n",
        "    t=trace(var,x=X_train[5]) # arbitrary point to check for the sanity of the quntum state\n",
        "    print(\"Trace: {:0.5f}\".format(t))   \n",
        "    \n",
        "    predictions = testing(var,X_test1)\n",
        "    ww = accuracy(y_test1, predictions)\n",
        "    acc_test = ww[2]\n",
        "    acc_m = ww[0]\n",
        "    weight_epoch.append(var)\n",
        "    np.save('weights_per_epoch',np.array(weight_epoch))\n",
        "\n",
        "    test.append(acc_test)\n",
        "    np.save('testing',test)\n",
        "    mse_v.append(acc_m)\n",
        "    \n",
        "    if acc_test > old_acc:\n",
        "        update_var = var\n",
        "        old_acc = acc_test\n",
        "        print(\"  \")\n",
        "        print('model improved')\n",
        "        print(\"  \")\n",
        "    \n",
        "    print(\"Iter:{:5d} | mse: {:0.7e} | mae: {:0.7e} | R2: {:0.5f}\".format(it + 1,ww[0],ww[1],ww[2]),'time:', int((time.time()-now)))"
      ],
      "execution_count": null,
      "outputs": []
    },
    {
      "cell_type": "code",
      "metadata": {
        "id": "md1RJklQkW6d",
        "colab_type": "code",
        "colab": {}
      },
      "source": [
        ""
      ],
      "execution_count": null,
      "outputs": []
    }
  ]
}