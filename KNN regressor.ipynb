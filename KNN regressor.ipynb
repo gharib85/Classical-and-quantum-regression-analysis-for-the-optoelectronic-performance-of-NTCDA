{
  "nbformat": 4,
  "nbformat_minor": 0,
  "metadata": {
    "kernelspec": {
      "display_name": "Python 3",
      "language": "python",
      "name": "python3"
    },
    "language_info": {
      "codemirror_mode": {
        "name": "ipython",
        "version": 3
      },
      "file_extension": ".py",
      "mimetype": "text/x-python",
      "name": "python",
      "nbconvert_exporter": "python",
      "pygments_lexer": "ipython3",
      "version": "3.8.2"
    },
    "colab": {
      "name": "KNN regressor.ipynb",
      "provenance": [],
      "include_colab_link": true
    }
  },
  "cells": [
    {
      "cell_type": "markdown",
      "metadata": {
        "id": "view-in-github",
        "colab_type": "text"
      },
      "source": [
        "<a href=\"https://colab.research.google.com/github/kareem1925/Classical-and-quantum-regression-analysis-for-the-optoelectronic-performance-of-NTCDA/blob/master/KNN%20regressor.ipynb\" target=\"_parent\"><img src=\"https://colab.research.google.com/assets/colab-badge.svg\" alt=\"Open In Colab\"/></a>"
      ]
    },
    {
      "cell_type": "code",
      "metadata": {
        "id": "II0N3bmklUiy",
        "colab_type": "code",
        "colab": {}
      },
      "source": [
        "import numpy as np\n",
        "from sklearn.neighbors import KNeighborsRegressor as knn\n",
        "import pandas as pd\n",
        "import random\n",
        "import matplotlib.pyplot as plt\n",
        "import warnings\n",
        "from sklearn.model_selection import learning_curve\n",
        "from sklearn.model_selection import train_test_split\n",
        "from sklearn.preprocessing import StandardScaler,RobustScaler\n",
        "from sklearn.model_selection import cross_val_score\n",
        "from sklearn.metrics import mean_squared_error as mse\n",
        "from sklearn.metrics import mean_absolute_error as mae\n",
        "from sklearn.metrics import r2_score as r2\n",
        "from sklearn.model_selection import GridSearchCV\n",
        "random.seed(0)\n",
        "np.random.seed(0)\n",
        "np.seterr(all='warn')\n",
        "warnings.filterwarnings('ignore')"
      ],
      "execution_count": null,
      "outputs": []
    },
    {
      "cell_type": "markdown",
      "metadata": {
        "id": "LoDhajgOqZXf",
        "colab_type": "text"
      },
      "source": [
        "## Data loading and preprocessing as described in the paper"
      ]
    },
    {
      "cell_type": "code",
      "metadata": {
        "id": "OsqzijYQlUi6",
        "colab_type": "code",
        "colab": {}
      },
      "source": [
        "url = 'https://raw.githubusercontent.com/kareem1925/Classical-and-quantum-regression-analysis-for-the-optoelectronic-performance-of-NTCDA/master/data.csv'\n",
        "Data=pd.read_csv(url)\n",
        "features = Data.drop('I', axis=1).values"
      ],
      "execution_count": null,
      "outputs": []
    },
    {
      "cell_type": "code",
      "metadata": {
        "id": "1TFh3X1klUjA",
        "colab_type": "code",
        "colab": {}
      },
      "source": [
        "scale = RobustScaler()"
      ],
      "execution_count": null,
      "outputs": []
    },
    {
      "cell_type": "code",
      "metadata": {
        "id": "wVQrg9nflUjF",
        "colab_type": "code",
        "colab": {}
      },
      "source": [
        "X_train, X_test, y_train, y_test = train_test_split(features,\n",
        "                                                    Data['I'].values,\n",
        "                                                    test_size=0.15,\n",
        "                                                    random_state=0,\n",
        "                                                    shuffle=True)"
      ],
      "execution_count": null,
      "outputs": []
    },
    {
      "cell_type": "code",
      "metadata": {
        "id": "7IZhSwiIlUjL",
        "colab_type": "code",
        "colab": {}
      },
      "source": [
        "X_train = scale.fit_transform(X_train)\n",
        "X_test = scale.transform(X_test)\n"
      ],
      "execution_count": null,
      "outputs": []
    },
    {
      "cell_type": "code",
      "metadata": {
        "id": "K2LdqjvylUjQ",
        "colab_type": "code",
        "colab": {
          "base_uri": "https://localhost:8080/",
          "height": 306
        },
        "outputId": "f495f3ca-b101-4f0b-b64e-f96bddb1baee"
      },
      "source": [
        "k_range = list(range(1, 5))\n",
        "param_grid = dict(n_neighbors=k_range,weights = ['distance']\n",
        ",metric = ['minkowski']\n",
        ",p = [1,2,3,4,5,6,7],algorithm=['kd_tree','ball_tree','brute'])\n",
        "model =knn()\n",
        "gs = GridSearchCV(model,param_grid=param_grid,scoring='neg_mean_squared_error'\n",
        "                  ,verbose=1,n_jobs=12,cv=13)\n",
        "gs.fit(X_train,y_train)"
      ],
      "execution_count": null,
      "outputs": [
        {
          "output_type": "stream",
          "text": [
            "Fitting 13 folds for each of 84 candidates, totalling 1092 fits\n"
          ],
          "name": "stdout"
        },
        {
          "output_type": "stream",
          "text": [
            "[Parallel(n_jobs=12)]: Using backend LokyBackend with 12 concurrent workers.\n",
            "[Parallel(n_jobs=12)]: Done  26 tasks      | elapsed:    4.1s\n",
            "[Parallel(n_jobs=12)]: Done 446 tasks      | elapsed:    6.5s\n",
            "[Parallel(n_jobs=12)]: Done 1092 out of 1092 | elapsed:    9.2s finished\n"
          ],
          "name": "stderr"
        },
        {
          "output_type": "execute_result",
          "data": {
            "text/plain": [
              "GridSearchCV(cv=13, error_score=nan,\n",
              "             estimator=KNeighborsRegressor(algorithm='auto', leaf_size=30,\n",
              "                                           metric='minkowski',\n",
              "                                           metric_params=None, n_jobs=None,\n",
              "                                           n_neighbors=5, p=2,\n",
              "                                           weights='uniform'),\n",
              "             iid='deprecated', n_jobs=12,\n",
              "             param_grid={'algorithm': ['kd_tree', 'ball_tree', 'brute'],\n",
              "                         'metric': ['minkowski'], 'n_neighbors': [1, 2, 3, 4],\n",
              "                         'p': [1, 2, 3, 4, 5, 6, 7], 'weights': ['distance']},\n",
              "             pre_dispatch='2*n_jobs', refit=True, return_train_score=False,\n",
              "             scoring='neg_mean_squared_error', verbose=1)"
            ]
          },
          "metadata": {
            "tags": []
          },
          "execution_count": 6
        }
      ]
    },
    {
      "cell_type": "code",
      "metadata": {
        "id": "i-lngnqvlUjW",
        "colab_type": "code",
        "colab": {
          "base_uri": "https://localhost:8080/",
          "height": 68
        },
        "outputId": "03b96d46-9d0b-4fc9-837a-1420033b7488"
      },
      "source": [
        "gs.best_estimator_"
      ],
      "execution_count": null,
      "outputs": [
        {
          "output_type": "execute_result",
          "data": {
            "text/plain": [
              "KNeighborsRegressor(algorithm='brute', leaf_size=30, metric='minkowski',\n",
              "                    metric_params=None, n_jobs=None, n_neighbors=4, p=4,\n",
              "                    weights='distance')"
            ]
          },
          "metadata": {
            "tags": []
          },
          "execution_count": 7
        }
      ]
    },
    {
      "cell_type": "code",
      "metadata": {
        "id": "1AZdVpDflUjc",
        "colab_type": "code",
        "colab": {
          "base_uri": "https://localhost:8080/",
          "height": 34
        },
        "outputId": "4c818b13-3496-45a3-8778-b30dc4b5f2b1"
      },
      "source": [
        "abs(gs.score(X_test,y_test))"
      ],
      "execution_count": null,
      "outputs": [
        {
          "output_type": "execute_result",
          "data": {
            "text/plain": [
              "2.6728772870151094e-11"
            ]
          },
          "metadata": {
            "tags": []
          },
          "execution_count": 8
        }
      ]
    },
    {
      "cell_type": "code",
      "metadata": {
        "id": "3GUqpo0-lUjg",
        "colab_type": "code",
        "colab": {
          "base_uri": "https://localhost:8080/",
          "height": 68
        },
        "outputId": "e14b16b5-7036-4a2f-8bbd-9dfc4cb9095f"
      },
      "source": [
        "fina_model = knn(algorithm='brute',leaf_size=30,metric='minkowski',p=4,n_neighbors=4,weights='distance')\n",
        "fina_model.fit(X_train,y_train)"
      ],
      "execution_count": null,
      "outputs": [
        {
          "output_type": "execute_result",
          "data": {
            "text/plain": [
              "KNeighborsRegressor(algorithm='brute', leaf_size=30, metric='minkowski',\n",
              "                    metric_params=None, n_jobs=None, n_neighbors=4, p=4,\n",
              "                    weights='distance')"
            ]
          },
          "metadata": {
            "tags": []
          },
          "execution_count": 9
        }
      ]
    },
    {
      "cell_type": "code",
      "metadata": {
        "id": "kjxBB3KTlUjm",
        "colab_type": "code",
        "colab": {
          "base_uri": "https://localhost:8080/",
          "height": 34
        },
        "outputId": "466c7b76-54bb-4daa-ac5b-76209724be8e"
      },
      "source": [
        "print('R^2 score = ', r2(y_test,fina_model.predict(X_test)))"
      ],
      "execution_count": null,
      "outputs": [
        {
          "output_type": "stream",
          "text": [
            "R^2 score =  0.9995901070375562\n"
          ],
          "name": "stdout"
        }
      ]
    },
    {
      "cell_type": "code",
      "metadata": {
        "id": "jUYkLfr9lUjr",
        "colab_type": "code",
        "colab": {
          "base_uri": "https://localhost:8080/",
          "height": 34
        },
        "outputId": "30c15286-23fc-4972-fd35-ad54b026b97c"
      },
      "source": [
        "print('mean squared error on testing data = ', mse(y_test,fina_model.predict(X_test)))"
      ],
      "execution_count": null,
      "outputs": [
        {
          "output_type": "stream",
          "text": [
            "mean squared error on testing data =  2.6728772870151094e-11\n"
          ],
          "name": "stdout"
        }
      ]
    },
    {
      "cell_type": "code",
      "metadata": {
        "id": "gFLsvM1MlUjv",
        "colab_type": "code",
        "colab": {
          "base_uri": "https://localhost:8080/",
          "height": 34
        },
        "outputId": "02ab3e11-b744-4493-e40f-4f4f21638353"
      },
      "source": [
        "print('mean absolute error on testing data = ', mae(y_test,fina_model.predict(X_test)))"
      ],
      "execution_count": null,
      "outputs": [
        {
          "output_type": "stream",
          "text": [
            "mean absolute error on testing data =  2.670075782006565e-06\n"
          ],
          "name": "stdout"
        }
      ]
    },
    {
      "cell_type": "code",
      "metadata": {
        "id": "K9JCHp2XlUj0",
        "colab_type": "code",
        "colab": {}
      },
      "source": [
        "scores = cross_val_score(X=X_train,y=y_train,estimator=fina_model,cv=13,scoring='neg_mean_squared_error')"
      ],
      "execution_count": null,
      "outputs": []
    },
    {
      "cell_type": "code",
      "metadata": {
        "id": "C41dy5HIlUj9",
        "colab_type": "code",
        "colab": {
          "base_uri": "https://localhost:8080/",
          "height": 34
        },
        "outputId": "95ba1979-29e2-44ca-c533-97112b8b440c"
      },
      "source": [
        "abs(scores.mean())"
      ],
      "execution_count": null,
      "outputs": [
        {
          "output_type": "execute_result",
          "data": {
            "text/plain": [
              "6.070675818339898e-11"
            ]
          },
          "metadata": {
            "tags": []
          },
          "execution_count": 14
        }
      ]
    }
  ]
}